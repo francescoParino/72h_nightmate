{
 "cells": [
  {
   "cell_type": "markdown",
   "metadata": {},
   "source": [
    "# Import"
   ]
  },
  {
   "cell_type": "code",
   "execution_count": 1,
   "metadata": {},
   "outputs": [
    {
     "name": "stdout",
     "output_type": "stream",
     "text": [
      "Populating the interactive namespace from numpy and matplotlib\n"
     ]
    }
   ],
   "source": [
    "%pylab inline\n",
    "%load_ext autoreload"
   ]
  },
  {
   "cell_type": "code",
   "execution_count": 42,
   "metadata": {},
   "outputs": [
    {
     "name": "stdout",
     "output_type": "stream",
     "text": [
      "The autoreload extension is already loaded. To reload it, use:\n",
      "  %reload_ext autoreload\n"
     ]
    }
   ],
   "source": [
    "import pandas as pd\n",
    "import json\n",
    "from collections import defaultdict\n",
    "from functools import reduce\n",
    "import copy\n",
    "import numpy as np\n",
    "#import networkx as nx\n",
    "\n",
    "\n",
    "import datetime as dt\n",
    "pd.set_option('display.max_columns', 500)\n",
    "\n",
    "import time\n",
    "%load_ext autoreload\n",
    "\n",
    "from collections import defaultdict\n",
    "from collections import Counter\n",
    "\n",
    "from functools import lru_cache\n",
    "import seaborn as sns\n",
    "\n",
    "from scipy.special import expit\n",
    "from functools import partial\n",
    "from multiprocessing import Pool\n",
    "from tqdm import tqdm\n",
    "import random \n",
    "\n",
    "from scipy.special import logit\n",
    "from scipy.special import expit\n",
    "\n",
    "\n",
    "class NumpyEncoder(json.JSONEncoder):\n",
    "    def default(self, obj):\n",
    "        if isinstance(obj, np.ndarray):\n",
    "            return obj.tolist()\n",
    "        return json.JSONEncoder.default(self, obj)"
   ]
  },
  {
   "cell_type": "markdown",
   "metadata": {},
   "source": [
    "# Ohtsuki_model"
   ]
  },
  {
   "cell_type": "code",
   "execution_count": 3,
   "metadata": {},
   "outputs": [],
   "source": [
    "class ohtsuki_model():\n",
    "    def __init__(self, links, w, b, all_coop=False, extra_random=0):\n",
    "        \n",
    "        #network properties \n",
    "        self.links = links\n",
    "        self.n = len(links.keys())\n",
    "        \n",
    "        #define interactions\n",
    "        self.b = b\n",
    "        self.w = w\n",
    "        \n",
    "        #inizialize nodes\n",
    "        self.initial_all_coop = all_coop\n",
    "        self.strategy = np.array([all_coop]*self.n)\n",
    "    \n",
    "        #automatic flip one agents on init\n",
    "        self.flip_agent(0) \n",
    "        \n",
    "        # number of coops for stopping rule\n",
    "        self.ncoop = sum(self.strategy)\n",
    "    \n",
    "    \n",
    "    \n",
    "    #fip one node strategy\n",
    "    def flip_agent(self, index_flipped):\n",
    "        self.strategy[index_flipped] = not self.strategy[index_flipped]\n",
    "         \n",
    "        \n",
    "    # get the payoff of a single node    \n",
    "    def compute_payoff_node(self, node):\n",
    "        \n",
    "        kcoop = sum(self.strategy[self.links[node]])\n",
    "        kdef = len(self.links[node]) - kcoop\n",
    "        k = kcoop + kdef\n",
    "        \n",
    "        # if cooperator\n",
    "        if self.strategy[node]:\n",
    "            payoff = (self.b * kcoop) - k\n",
    "            \n",
    "        # if defector     \n",
    "        else: \n",
    "            payoff = (self.b * kcoop)\n",
    "        \n",
    "        #correct for positive values\n",
    "        payoff += k\n",
    "        \n",
    "        #selection \n",
    "        return (1 - self.w) + self.w*(payoff)\n",
    "    \n",
    "    \n",
    "    \n",
    "    def make_action(self):\n",
    "        \n",
    "        randomNode = random.randrange(0, self.n)\n",
    "        \n",
    "        #early stop if my neighbours are all equal\n",
    "        early_stop = True\n",
    "        for v in self.links[randomNode]:\n",
    "            if self.strategy[v] != self.strategy[randomNode]:\n",
    "                early_stop = False\n",
    "                break\n",
    "        if early_stop: return False\n",
    "                \n",
    "            \n",
    "        \n",
    "        pyf_randomNode = self.compute_payoff_node(randomNode)\n",
    "        pyf_neighbors_coop = 0\n",
    "        pyf_neighbors_def = 0\n",
    "        \n",
    "        for v in self.links[randomNode]:\n",
    "            if self.strategy[v]: \n",
    "                pyf_neighbors_coop += self.compute_payoff_node(v)\n",
    "            else: \n",
    "                pyf_neighbors_def += self.compute_payoff_node(v)\n",
    "        \n",
    "\n",
    "        if self.strategy[randomNode]:\n",
    "            probChange = pyf_neighbors_def / (pyf_neighbors_def + pyf_neighbors_coop)\n",
    "        else:\n",
    "            probChange = pyf_neighbors_coop / (pyf_neighbors_def + pyf_neighbors_coop)\n",
    "        \n",
    "        \n",
    "        if random.random() < probChange:\n",
    "            #update number of coop for stopping\n",
    "            if self.strategy[randomNode]: self.ncoop -= 1\n",
    "            else: self.ncoop += 1\n",
    "            \n",
    "            #change\n",
    "            self.strategy[randomNode] = not self.strategy[randomNode]\n",
    "        \n",
    "   \n",
    "        if self.ncoop == self.n or self.ncoop == 0:\n",
    "            return True\n",
    "        return False\n",
    "\n",
    "\n",
    "def crete_link_circle(n, neighbours):\n",
    "    assert neighbours%2==0\n",
    "    \n",
    "    links = defaultdict(list)\n",
    "    for i in range(n):\n",
    "        left = [(i-j-1)%n for j in range(int(neighbours/2))]\n",
    "        right = [(i+j+1)%n for j in range(int(neighbours/2))]\n",
    "        \n",
    "        links[i] = left+right\n",
    "        \n",
    "    return dict(links)\n"
   ]
  },
  {
   "cell_type": "code",
   "execution_count": 11,
   "metadata": {},
   "outputs": [],
   "source": [
    "def _runModel(seed, c):  \n",
    "    c = copy.deepcopy(c)\n",
    "    #random.seed(int(time.time()*1000000 + seed))\n",
    "    itera = 0\n",
    "\n",
    "    while not c.make_action():\n",
    "        itera += 1 \n",
    "    \n",
    "    return all([i != c.initial_all_coop for i in c.strategy]), itera\n",
    "\n",
    "\n",
    "def runModel(nRun, c):\n",
    "    \n",
    "    __runModel = partial(_runModel, c = c)\n",
    "    with Pool(6) as p:\n",
    "          r = list(tqdm(p.imap(__runModel, range(nRun)), total=nRun)) \n",
    "    \n",
    "    final_r = [i[0] for i in r]\n",
    "    iterations = [(i[1],i[0]) for i in r]\n",
    "    \n",
    "    fix = sum(final_r)/len(final_r)\n",
    "    return fix, iterations"
   ]
  },
  {
   "cell_type": "markdown",
   "metadata": {},
   "source": [
    "## Test neutral 1/N"
   ]
  },
  {
   "cell_type": "code",
   "execution_count": 7,
   "metadata": {},
   "outputs": [
    {
     "name": "stderr",
     "output_type": "stream",
     "text": [
      "100%|██████████| 10000/10000 [00:01<00:00, 7693.02it/s]\n",
      "100%|██████████| 10000/10000 [00:01<00:00, 7718.70it/s]\n",
      "100%|██████████| 10000/10000 [00:01<00:00, 8213.13it/s]\n",
      "100%|██████████| 10000/10000 [00:01<00:00, 7975.70it/s]\n",
      "100%|██████████| 10000/10000 [00:01<00:00, 7801.82it/s]\n",
      "100%|██████████| 10000/10000 [00:01<00:00, 5789.52it/s]\n",
      "100%|██████████| 10000/10000 [00:03<00:00, 2524.48it/s]\n",
      "100%|██████████| 10000/10000 [00:07<00:00, 1340.95it/s]\n",
      "100%|██████████| 10000/10000 [00:16<00:00, 603.52it/s]\n"
     ]
    }
   ],
   "source": [
    "fixs = []\n",
    "n_nodes = [2, 3, 4, 5, 7, 10, 20, 30, 50]\n",
    "\n",
    "for n_node in n_nodes:\n",
    "    \n",
    "    ots = ohtsuki_model(crete_link_circle(n_node, 2), 0, 0)\n",
    "    res = runModel(10000, ots)\n",
    "    fixs.append(res[0])"
   ]
  },
  {
   "cell_type": "code",
   "execution_count": 8,
   "metadata": {},
   "outputs": [
    {
     "data": {
      "text/plain": [
       "[0.5051, 0.3263, 0.2527, 0.2063, 0.1436, 0.1057, 0.0463, 0.0341, 0.0204]"
      ]
     },
     "execution_count": 8,
     "metadata": {},
     "output_type": "execute_result"
    }
   ],
   "source": [
    "fixs"
   ]
  },
  {
   "cell_type": "code",
   "execution_count": 10,
   "metadata": {},
   "outputs": [
    {
     "data": {
      "text/plain": [
       "[<matplotlib.lines.Line2D at 0x7f92206f9fd0>]"
      ]
     },
     "execution_count": 10,
     "metadata": {},
     "output_type": "execute_result"
    },
    {
     "data": {
      "image/png": "[encoded data removed]",
      "text/plain": [
       "<Figure size 432x288 with 1 Axes>"
      ]
     },
     "metadata": {
      "needs_background": "light"
     },
     "output_type": "display_data"
    }
   ],
   "source": [
    "plt.scatter(n_nodes, fixs)\n",
    "plt.plot(range(2,60), [1/i for i in range(2,60)], alpha=0.5)"
   ]
  },
  {
   "cell_type": "markdown",
   "metadata": {},
   "source": [
    "## Test b/c > K"
   ]
  },
  {
   "cell_type": "code",
   "execution_count": 12,
   "metadata": {},
   "outputs": [
    {
     "name": "stderr",
     "output_type": "stream",
     "text": [
      "100%|██████████| 100000/100000 [11:10<00:00, 149.15it/s]\n"
     ]
    },
    {
     "data": {
      "text/plain": [
       "0.00958"
      ]
     },
     "execution_count": 12,
     "metadata": {},
     "output_type": "execute_result"
    }
   ],
   "source": [
    "ots = ohtsuki_model(crete_link_circle(100, 2), 0.01, 2)\n",
    "res = runModel(100000, ots)\n",
    "res[0]"
   ]
  },
  {
   "cell_type": "code",
   "execution_count": 13,
   "metadata": {},
   "outputs": [
    {
     "name": "stderr",
     "output_type": "stream",
     "text": [
      "100%|██████████| 100000/100000 [11:32<00:00, 144.39it/s]\n"
     ]
    },
    {
     "data": {
      "text/plain": [
       "0.0105"
      ]
     },
     "execution_count": 13,
     "metadata": {},
     "output_type": "execute_result"
    }
   ],
   "source": [
    "ots = ohtsuki_model(crete_link_circle(100, 2), 0.01, 2.2)\n",
    "res = runModel(100000, ots)\n",
    "res[0]"
   ]
  },
  {
   "cell_type": "code",
   "execution_count": 14,
   "metadata": {},
   "outputs": [
    {
     "name": "stderr",
     "output_type": "stream",
     "text": [
      "100%|██████████| 100000/100000 [10:29<00:00, 158.83it/s]\n"
     ]
    },
    {
     "data": {
      "text/plain": [
       "0.00926"
      ]
     },
     "execution_count": 14,
     "metadata": {},
     "output_type": "execute_result"
    }
   ],
   "source": [
    "ots = ohtsuki_model(crete_link_circle(100, 2), 0.01, 1.8)\n",
    "res = runModel(100000, ots)\n",
    "res[0]"
   ]
  },
  {
   "cell_type": "markdown",
   "metadata": {},
   "source": [
    "## Test circle paper"
   ]
  },
  {
   "cell_type": "code",
   "execution_count": null,
   "metadata": {},
   "outputs": [
    {
     "name": "stderr",
     "output_type": "stream",
     "text": [
      "100%|██████████| 100000/100000 [08:40<00:00, 191.99it/s]\n",
      "100%|██████████| 100000/100000 [08:51<00:00, 187.99it/s]\n",
      "100%|██████████| 100000/100000 [09:13<00:00, 180.78it/s]\n",
      "100%|██████████| 100000/100000 [09:12<00:00, 180.94it/s]\n",
      "100%|██████████| 100000/100000 [09:38<00:00, 172.87it/s]\n",
      "100%|██████████| 100000/100000 [09:41<00:00, 171.88it/s]\n",
      "100%|██████████| 100000/100000 [07:43<00:00, 215.79it/s]\n",
      "100%|██████████| 100000/100000 [08:12<00:00, 203.13it/s]\n",
      "100%|██████████| 100000/100000 [08:41<00:00, 191.88it/s]\n",
      "  2%|▏         | 1748/100000 [00:14<19:25, 84.31it/s]"
     ]
    }
   ],
   "source": [
    "fix = list()\n",
    "n_nodes = 100\n",
    "\n",
    "bs = [np.arange(1.6, 2.5, 0.2),np.arange(3.6, 4.5, 0.2), np.arange(12.2, 13, 0.2)]\n",
    "neighbours = [2,4,10]\n",
    "\n",
    "\n",
    "n_bs_fix = list(zip(neighbours, bs, [list() for i in range(len(neighbours))]))\n",
    "\n",
    "for _neighbours, _bs, _fix in n_bs_fix:\n",
    "    for b in _bs:\n",
    "        ots = ohtsuki_model(crete_link_circle(n_nodes, _neighbours), 0.01, b)\n",
    "        res = runModel(100000, ots)\n",
    "        _fix.append(res[0])"
   ]
  },
  {
   "cell_type": "code",
   "execution_count": 43,
   "metadata": {},
   "outputs": [],
   "source": [
    "with open(\"./ohtsuki_figure_2(100N_10000iter_w0.01)\", \"w\") as f:\n",
    "    json.dump(n_bs_fix, f, cls=NumpyEncoder)"
   ]
  },
  {
   "cell_type": "code",
   "execution_count": 32,
   "metadata": {},
   "outputs": [
    {
     "data": {
      "image/png": "[encoded data removed]",
      "text/plain": [
       "<Figure size 432x288 with 1 Axes>"
      ]
     },
     "metadata": {
      "needs_background": "light"
     },
     "output_type": "display_data"
    }
   ],
   "source": [
    "for _neighbours, _bs, _fix in n_bs_fix[0:2]:\n",
    "    plt.scatter(_bs, _fix, label= f\" k = {_neighbours}\")\n",
    "    \n",
    "plt.hlines(1/n_nodes, min(j for _neighbours, _bs, _fix in n_bs_fix[0:2] for j in _bs), max(j for _neighbours, _bs, _fix in n_bs_fix[0:2] for j in _bs), linestyles= 'dashed')\n",
    "plt.legend()\n",
    "_ = plt.ylim(0.006,0.014)"
   ]
  },
  {
   "cell_type": "code",
   "execution_count": 33,
   "metadata": {},
   "outputs": [
    {
     "data": {
      "image/png": "[encoded data removed]",
      "text/plain": [
       "<Figure size 432x288 with 1 Axes>"
      ]
     },
     "metadata": {
      "needs_background": "light"
     },
     "output_type": "display_data"
    }
   ],
   "source": [
    "for _neighbours, _bs, _fix in n_bs_fix:\n",
    "    plt.scatter(_bs, _fix, label= f\" k = {_neighbours}\")\n",
    "    \n",
    "plt.hlines(1/n_nodes, min(j for _neighbours, _bs, _fix in n_bs_fix for j in _bs), max(j for _neighbours, _bs, _fix in n_bs_fix for j in _bs), linestyles= 'dashed')\n",
    "plt.legend()\n",
    "_ = plt.ylim(0.006,0.014)"
   ]
  },
  {
   "cell_type": "code",
   "execution_count": null,
   "metadata": {},
   "outputs": [],
   "source": []
  },
  {
   "cell_type": "code",
   "execution_count": null,
   "metadata": {},
   "outputs": [],
   "source": []
  },
  {
   "cell_type": "code",
   "execution_count": null,
   "metadata": {},
   "outputs": [],
   "source": []
  },
  {
   "cell_type": "code",
   "execution_count": null,
   "metadata": {},
   "outputs": [],
   "source": []
  }
 ],
 "metadata": {
  "kernelspec": {
   "display_name": "Python 3",
   "language": "python",
   "name": "python3"
  },
  "language_info": {
   "codemirror_mode": {
    "name": "ipython",
    "version": 3
   },
   "file_extension": ".py",
   "mimetype": "text/x-python",
   "name": "python",
   "nbconvert_exporter": "python",
   "pygments_lexer": "ipython3",
   "version": "3.6.8"
  }
 },
 "nbformat": 4,
 "nbformat_minor": 2
}
